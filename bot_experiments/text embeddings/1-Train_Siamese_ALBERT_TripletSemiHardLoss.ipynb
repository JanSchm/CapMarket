{
  "nbformat": 4,
  "nbformat_minor": 0,
  "metadata": {
    "colab": {
      "name": "Siamese_ALBERT_TripletSemiHardLoss_Training.ipynb",
      "provenance": [],
      "collapsed_sections": []
    },
    "kernelspec": {
      "name": "python3",
      "display_name": "Python 3"
    },
    "accelerator": "GPU"
  },
  "cells": [
    {
      "cell_type": "code",
      "metadata": {
        "id": "w5YN5RfkhfdR"
      },
      "source": [
        "%%capture\n",
        "!pip install tensorflow_addons\n",
        "!pip install tensorflow_text"
      ],
      "execution_count": null,
      "outputs": []
    },
    {
      "cell_type": "code",
      "metadata": {
        "colab": {
          "base_uri": "https://localhost:8080/"
        },
        "id": "kCd0Z_JThfZH",
        "outputId": "b349b85c-64d2-4f22-e15a-0c14b5f8710f"
      },
      "source": [
        "import numpy as np\n",
        "import pandas as pd\n",
        "import random, io, os, datetime, glob\n",
        "import tensorflow as tf\n",
        "import tensorflow_addons as tfa\n",
        "import tensorflow_text as text\n",
        "import tensorflow_hub as hub\n",
        "from tensorflow.keras.models import *\n",
        "from tensorflow.keras.layers import *\n",
        "print('Tensorflow version: {}'.format(tf.__version__))\n",
        "print('Tensorflow Hub version: {}'.format(hub.__version__))\n",
        "\n",
        "from sklearn.decomposition import PCA\n",
        "\n",
        "import matplotlib.pyplot as plt\n",
        "plt.style.use('seaborn')"
      ],
      "execution_count": null,
      "outputs": [
        {
          "output_type": "stream",
          "text": [
            "Tensorflow version: 2.4.1\n",
            "Tensorflow Hub version: 0.11.0\n"
          ],
          "name": "stdout"
        }
      ]
    },
    {
      "cell_type": "code",
      "metadata": {
        "colab": {
          "base_uri": "https://localhost:8080/"
        },
        "id": "-bQCyKlv9j-_",
        "outputId": "7dd033bb-944d-4084-e36d-9071b44a6f60"
      },
      "source": [
        "!nvidia-smi"
      ],
      "execution_count": null,
      "outputs": [
        {
          "output_type": "stream",
          "text": [
            "Sun Feb 28 18:16:51 2021       \n",
            "+-----------------------------------------------------------------------------+\n",
            "| NVIDIA-SMI 460.39       Driver Version: 460.32.03    CUDA Version: 11.2     |\n",
            "|-------------------------------+----------------------+----------------------+\n",
            "| GPU  Name        Persistence-M| Bus-Id        Disp.A | Volatile Uncorr. ECC |\n",
            "| Fan  Temp  Perf  Pwr:Usage/Cap|         Memory-Usage | GPU-Util  Compute M. |\n",
            "|                               |                      |               MIG M. |\n",
            "|===============================+======================+======================|\n",
            "|   0  Tesla P100-PCIE...  Off  | 00000000:00:04.0 Off |                    0 |\n",
            "| N/A   36C    P0    27W / 250W |      0MiB / 16280MiB |      0%      Default |\n",
            "|                               |                      |                  N/A |\n",
            "+-------------------------------+----------------------+----------------------+\n",
            "                                                                               \n",
            "+-----------------------------------------------------------------------------+\n",
            "| Processes:                                                                  |\n",
            "|  GPU   GI   CI        PID   Type   Process name                  GPU Memory |\n",
            "|        ID   ID                                                   Usage      |\n",
            "|=============================================================================|\n",
            "|  No running processes found                                                 |\n",
            "+-----------------------------------------------------------------------------+\n"
          ],
          "name": "stdout"
        }
      ]
    },
    {
      "cell_type": "markdown",
      "metadata": {
        "id": "ALDHIcCN7-qt"
      },
      "source": [
        "## Hyperparameters"
      ]
    },
    {
      "cell_type": "code",
      "metadata": {
        "id": "Nf1wFJlH77NG"
      },
      "source": [
        "BATCH_SIZE = 64"
      ],
      "execution_count": null,
      "outputs": []
    },
    {
      "cell_type": "markdown",
      "metadata": {
        "id": "FJCxy74gj7TN"
      },
      "source": [
        "## Load HuffPost data"
      ]
    },
    {
      "cell_type": "code",
      "metadata": {
        "colab": {
          "base_uri": "https://localhost:8080/",
          "height": 1000
        },
        "id": "FUo2VT9chfhO",
        "outputId": "27c6f595-baab-4ccd-fb82-2d081b715c17"
      },
      "source": [
        "df = pd.read_json('/content/drive/MyDrive/Capital_Market/Neural_Returns/Demo_Data/NLP_Classification/HuffPost_News/News_Category_Dataset_v2.json', lines=True)\n",
        "\n",
        "df['category_id'] = pd.factorize(df['category'])[0]\n",
        "df['headline_char_len'] = df['headline'].str.len()\n",
        "df['headline_word_len'] = df['headline'].str.split().apply(len)\n",
        "df['short_description_char_len'] = df['short_description'].str.len()\n",
        "df['short_description_word_len'] = df['short_description'].str.split().apply(len)\n",
        "\n",
        "df['headline_description'] = df['headline'] + '. ' + df['short_description']\n",
        "df['headline_description_char_len'] = df['headline_description'].str.len()\n",
        "df['headline_description_word_len'] = df['headline_description'].str.split().apply(len)\n",
        "\n",
        "print('Number of news:', len(df))\n",
        "print('=================================')\n",
        "print('Number of min, max, avg characters in \"headline_char_len\" column: {}, {}, {}'.format(df['headline_char_len'].min(), df['headline_char_len'].max(), int(df['headline_char_len'].mean())))\n",
        "print('Number of min, max, avg words in \"headline_word_len\" column: {}, {}, {}'.format(df['headline_word_len'].min(), df['headline_word_len'].max(), int(df['headline_word_len'].mean())))\n",
        "print('=================================')\n",
        "print(df.loc[df['headline_word_len'] <= 3]['headline'])\n",
        "print('Number of headlines less than threshold', len(df.loc[df['headline_word_len'] <= 3]))\n",
        "plt.figure(figsize=(8,6))\n",
        "plt.hist([df['headline_char_len'], df['headline_word_len']], 50, label=['HeadlineCharacters', 'HeadlineWords', 'DescriptionCharacters', 'DescriptionWords'])\n",
        "plt.legend(loc='upper right')\n",
        "plt.show()\n",
        "print('==================================================================')\n",
        "print(' ')\n",
        "\n",
        "print('Number of min, max, avg characters in \"short_description_char_len\" column: {}, {}, {}'.format(df['short_description_char_len'].min(), df['short_description_char_len'].max(), int(df['short_description_char_len'].mean())))\n",
        "print('Number of min, max, avg words in \"short_description_word_len\" column: {}, {}, {}'.format(df['short_description_word_len'].min(), df['short_description_word_len'].max(), int(df['short_description_word_len'].mean())))\n",
        "print('=================================')\n",
        "print(df.loc[df['short_description_word_len'] <= 3][['short_description', 'category']])\n",
        "print('Number of short_descriptions less than threshold', len(df.loc[df['short_description_word_len'] <= 3]))\n",
        "plt.figure(figsize=(8,6))\n",
        "plt.hist([df['short_description_char_len'], df['short_description_word_len']], 50, label=['DescriptionCharacters', 'DescriptionWords'])\n",
        "plt.legend(loc='upper right')\n",
        "plt.show()\n",
        "print('==================================================================')\n",
        "print(' ')\n",
        "\n",
        "print('Number of min, max, avg characters in \"headline_description_char_len\" column: {}, {}, {}'.format(df['headline_description_char_len'].min(), df['headline_description_char_len'].max(), int(df['headline_description_char_len'].mean())))\n",
        "print('Number of min, max, avg words in \"headline_description_word_len\" column: {}, {}, {}'.format(df['headline_description_word_len'].min(), df['headline_description_word_len'].max(), int(df['headline_description_word_len'].mean())))\n",
        "print('=================================')\n",
        "print(df.loc[df['headline_description_word_len'] == 10][['headline_description', 'category']])\n",
        "print('Number of short_descriptions less than threshold', len(df.loc[df['headline_description_word_len'] == 10]))\n",
        "plt.figure(figsize=(8,6))\n",
        "plt.hist([df['headline_description_char_len'], df['headline_description_word_len']], 50, label=['HeadlineDescriptionCharacters', 'HeadlineDescriptionWords'])\n",
        "plt.legend(loc='upper right')\n",
        "plt.show()\n",
        "print('==================================================================')\n",
        "print(' ')\n",
        "\n",
        "df.head()"
      ],
      "execution_count": null,
      "outputs": [
        {
          "output_type": "stream",
          "text": [
            "Number of news: 200853\n",
            "=================================\n",
            "Number of min, max, avg characters in \"headline_char_len\" column: 0, 320, 57\n",
            "Number of min, max, avg words in \"headline_word_len\" column: 0, 44, 9\n",
            "=================================\n",
            "1269                Corruption Is Bad\n",
            "1888               Meeting Mr. Wright\n",
            "4975      Re-Introducing The Flipside\n",
            "7650                   Truth And Lies\n",
            "7776                    An NRA World?\n",
            "                     ...             \n",
            "200751            Darkness Ain't Cool\n",
            "200759          Creating Shared Value\n",
            "200803                   On the Fence\n",
            "200819             Femme Invisibility\n",
            "200845                       Web Wars\n",
            "Name: headline, Length: 5022, dtype: object\n",
            "Number of headlines less than threshold 5022\n"
          ],
          "name": "stdout"
        },
        {
          "output_type": "display_data",
          "data": {
            "image/png": "[encoded data removed]",
            "text/plain": [
              "<Figure size 576x432 with 1 Axes>"
            ]
          },
          "metadata": {
            "tags": []
          }
        },
        {
          "output_type": "stream",
          "text": [
            "==================================================================\n",
            " \n",
            "Number of min, max, avg characters in \"short_description_char_len\" column: 0, 1472, 114\n",
            "Number of min, max, avg words in \"short_description_word_len\" column: 0, 243, 19\n",
            "=================================\n",
            "         short_description        category\n",
            "69        Can you believe?    QUEER VOICES\n",
            "105            What a god.   ENTERTAINMENT\n",
            "114     \"Pot meet kettle.\"        POLITICS\n",
            "141                    😻😻😻      WEIRD NEWS\n",
            "164      Under $1 million?          COMEDY\n",
            "...                    ...             ...\n",
            "198250                        QUEER VOICES\n",
            "198265                         ENVIRONMENT\n",
            "200129                              IMPACT\n",
            "200191                        QUEER VOICES\n",
            "200266                      STYLE & BEAUTY\n",
            "\n",
            "[24297 rows x 2 columns]\n",
            "Number of short_descriptions less than threshold 24297\n"
          ],
          "name": "stdout"
        },
        {
          "output_type": "display_data",
          "data": {
            "image/png": "[encoded data removed]",
            "text/plain": [
              "<Figure size 576x432 with 1 Axes>"
            ]
          },
          "metadata": {
            "tags": []
          }
        },
        {
          "output_type": "stream",
          "text": [
            "==================================================================\n",
            " \n",
            "Number of min, max, avg characters in \"headline_description_char_len\" column: 2, 1488, 174\n",
            "Number of min, max, avg words in \"headline_description_word_len\" column: 1, 245, 29\n",
            "=================================\n",
            "                                     headline_description        category\n",
            "448     Chrissy Teigen And John Legend Welcome Baby Bo...   ENTERTAINMENT\n",
            "845     This 'Pollen Bomb' Is Every Allergy Sufferer's...      WEIRD NEWS\n",
            "1690    'Family Guy' Wickedly Pranks Emmy Voters. We h...   ENTERTAINMENT\n",
            "2319    4 Notorious Hurricane Names You'll Never Hear ...      WORLD NEWS\n",
            "3426    'The Simpsons' Predicted The Downfall Of Toys ...   ENTERTAINMENT\n",
            "...                                                   ...             ...\n",
            "185958  Watermelon Recipes To Eat All Summer Long. You...    FOOD & DRINK\n",
            "186031  How To BBQ: Grill Anything Safely. Courtesy of...        WELLNESS\n",
            "189660  A Landscape of Irrational Exuberance: This Art...  CULTURE & ARTS\n",
            "192040  Parenting After Divorce. Parenting changes aft...         DIVORCE\n",
            "195169  How to Evolve Your Egg Sandwich in Five Easy S...    FOOD & DRINK\n",
            "\n",
            "[3181 rows x 2 columns]\n",
            "Number of short_descriptions less than threshold 3181\n"
          ],
          "name": "stdout"
        },
        {
          "output_type": "display_data",
          "data": {
            "image/png": "[encoded data removed]",
            "text/plain": [
              "<Figure size 576x432 with 1 Axes>"
            ]
          },
          "metadata": {
            "tags": []
          }
        },
        {
          "output_type": "stream",
          "text": [
            "==================================================================\n",
            " \n"
          ],
          "name": "stdout"
        },
        {
          "output_type": "execute_result",
          "data": {
            "text/html": [
              "<div>\n",
              "<style scoped>\n",
              "    .dataframe tbody tr th:only-of-type {\n",
              "        vertical-align: middle;\n",
              "    }\n",
              "\n",
              "    .dataframe tbody tr th {\n",
              "        vertical-align: top;\n",
              "    }\n",
              "\n",
              "    .dataframe thead th {\n",
              "        text-align: right;\n",
              "    }\n",
              "</style>\n",
              "<table border=\"1\" class=\"dataframe\">\n",
              "  <thead>\n",
              "    <tr style=\"text-align: right;\">\n",
              "      <th></th>\n",
              "      <th>category</th>\n",
              "      <th>headline</th>\n",
              "      <th>authors</th>\n",
              "      <th>link</th>\n",
              "      <th>short_description</th>\n",
              "      <th>date</th>\n",
              "      <th>category_id</th>\n",
              "      <th>headline_char_len</th>\n",
              "      <th>headline_word_len</th>\n",
              "      <th>short_description_char_len</th>\n",
              "      <th>short_description_word_len</th>\n",
              "      <th>headline_description</th>\n",
              "      <th>headline_description_char_len</th>\n",
              "      <th>headline_description_word_len</th>\n",
              "    </tr>\n",
              "  </thead>\n",
              "  <tbody>\n",
              "    <tr>\n",
              "      <th>0</th>\n",
              "      <td>CRIME</td>\n",
              "      <td>There Were 2 Mass Shootings In Texas Last Week...</td>\n",
              "      <td>Melissa Jeltsen</td>\n",
              "      <td>https://www.huffingtonpost.com/entry/texas-ama...</td>\n",
              "      <td>She left her husband. He killed their children...</td>\n",
              "      <td>2018-05-26</td>\n",
              "      <td>0</td>\n",
              "      <td>64</td>\n",
              "      <td>14</td>\n",
              "      <td>76</td>\n",
              "      <td>13</td>\n",
              "      <td>There Were 2 Mass Shootings In Texas Last Week...</td>\n",
              "      <td>142</td>\n",
              "      <td>27</td>\n",
              "    </tr>\n",
              "    <tr>\n",
              "      <th>1</th>\n",
              "      <td>ENTERTAINMENT</td>\n",
              "      <td>Will Smith Joins Diplo And Nicky Jam For The 2...</td>\n",
              "      <td>Andy McDonald</td>\n",
              "      <td>https://www.huffingtonpost.com/entry/will-smit...</td>\n",
              "      <td>Of course it has a song.</td>\n",
              "      <td>2018-05-26</td>\n",
              "      <td>1</td>\n",
              "      <td>75</td>\n",
              "      <td>14</td>\n",
              "      <td>24</td>\n",
              "      <td>6</td>\n",
              "      <td>Will Smith Joins Diplo And Nicky Jam For The 2...</td>\n",
              "      <td>101</td>\n",
              "      <td>20</td>\n",
              "    </tr>\n",
              "    <tr>\n",
              "      <th>2</th>\n",
              "      <td>ENTERTAINMENT</td>\n",
              "      <td>Hugh Grant Marries For The First Time At Age 57</td>\n",
              "      <td>Ron Dicker</td>\n",
              "      <td>https://www.huffingtonpost.com/entry/hugh-gran...</td>\n",
              "      <td>The actor and his longtime girlfriend Anna Ebe...</td>\n",
              "      <td>2018-05-26</td>\n",
              "      <td>1</td>\n",
              "      <td>47</td>\n",
              "      <td>10</td>\n",
              "      <td>87</td>\n",
              "      <td>15</td>\n",
              "      <td>Hugh Grant Marries For The First Time At Age 5...</td>\n",
              "      <td>136</td>\n",
              "      <td>25</td>\n",
              "    </tr>\n",
              "    <tr>\n",
              "      <th>3</th>\n",
              "      <td>ENTERTAINMENT</td>\n",
              "      <td>Jim Carrey Blasts 'Castrato' Adam Schiff And D...</td>\n",
              "      <td>Ron Dicker</td>\n",
              "      <td>https://www.huffingtonpost.com/entry/jim-carre...</td>\n",
              "      <td>The actor gives Dems an ass-kicking for not fi...</td>\n",
              "      <td>2018-05-26</td>\n",
              "      <td>1</td>\n",
              "      <td>69</td>\n",
              "      <td>11</td>\n",
              "      <td>86</td>\n",
              "      <td>14</td>\n",
              "      <td>Jim Carrey Blasts 'Castrato' Adam Schiff And D...</td>\n",
              "      <td>157</td>\n",
              "      <td>25</td>\n",
              "    </tr>\n",
              "    <tr>\n",
              "      <th>4</th>\n",
              "      <td>ENTERTAINMENT</td>\n",
              "      <td>Julianna Margulies Uses Donald Trump Poop Bags...</td>\n",
              "      <td>Ron Dicker</td>\n",
              "      <td>https://www.huffingtonpost.com/entry/julianna-...</td>\n",
              "      <td>The \"Dietland\" actress said using the bags is ...</td>\n",
              "      <td>2018-05-26</td>\n",
              "      <td>1</td>\n",
              "      <td>71</td>\n",
              "      <td>13</td>\n",
              "      <td>87</td>\n",
              "      <td>13</td>\n",
              "      <td>Julianna Margulies Uses Donald Trump Poop Bags...</td>\n",
              "      <td>160</td>\n",
              "      <td>26</td>\n",
              "    </tr>\n",
              "  </tbody>\n",
              "</table>\n",
              "</div>"
            ],
            "text/plain": [
              "        category  ... headline_description_word_len\n",
              "0          CRIME  ...                            27\n",
              "1  ENTERTAINMENT  ...                            20\n",
              "2  ENTERTAINMENT  ...                            25\n",
              "3  ENTERTAINMENT  ...                            25\n",
              "4  ENTERTAINMENT  ...                            26\n",
              "\n",
              "[5 rows x 14 columns]"
            ]
          },
          "metadata": {
            "tags": []
          },
          "execution_count": 5
        }
      ]
    },
    {
      "cell_type": "markdown",
      "metadata": {
        "id": "aavDQApFkegl"
      },
      "source": [
        "## Clean data - Remove non-wanted records"
      ]
    },
    {
      "cell_type": "code",
      "metadata": {
        "colab": {
          "base_uri": "https://localhost:8080/",
          "height": 1000
        },
        "id": "Y6ALEZx5hfkl",
        "outputId": "51ef1ff3-4d80-4b88-f3ea-d4d45349c669"
      },
      "source": [
        "#Remove sequences wit are too short\n",
        "df = df[df['headline_description_word_len'] >= 10]\n",
        "df.reset_index(drop=True, inplace=True)\n",
        "\n",
        "print('Number of total news records: {}'.format(len(df)))\n",
        "print(df.groupby('category').agg({'category_id':['count'],}))#.count()['category_id'])\n",
        "print(df.groupby('category').count()['category_id']/len(df))#)\n",
        "df.tail()"
      ],
      "execution_count": null,
      "outputs": [
        {
          "output_type": "stream",
          "text": [
            "Number of total news records: 189339\n",
            "               category_id\n",
            "                     count\n",
            "category                  \n",
            "ARTS                  1236\n",
            "ARTS & CULTURE        1338\n",
            "BLACK VOICES          4328\n",
            "BUSINESS              5400\n",
            "COLLEGE               1042\n",
            "COMEDY                4637\n",
            "CRIME                 2969\n",
            "CULTURE & ARTS        1014\n",
            "DIVORCE               3426\n",
            "EDUCATION              934\n",
            "ENTERTAINMENT        14494\n",
            "ENVIRONMENT           1321\n",
            "FIFTY                 1189\n",
            "FOOD & DRINK          6157\n",
            "GOOD NEWS             1291\n",
            "GREEN                 2299\n",
            "HEALTHY LIVING        5742\n",
            "HOME & LIVING         4180\n",
            "IMPACT                3305\n",
            "LATINO VOICES         1087\n",
            "MEDIA                 2467\n",
            "MONEY                 1706\n",
            "PARENTING             8671\n",
            "PARENTS               3741\n",
            "POLITICS             31034\n",
            "QUEER VOICES          6027\n",
            "RELIGION              2151\n",
            "SCIENCE               1901\n",
            "SPORTS                4440\n",
            "STYLE                 1839\n",
            "STYLE & BEAUTY        9630\n",
            "TASTE                 1977\n",
            "TECH                  2065\n",
            "THE WORLDPOST         3663\n",
            "TRAVEL                9587\n",
            "WEDDINGS              3649\n",
            "WEIRD NEWS            2350\n",
            "WELLNESS             17823\n",
            "WOMEN                 3274\n",
            "WORLD NEWS            2174\n",
            "WORLDPOST             1781\n",
            "category\n",
            "ARTS              0.006528\n",
            "ARTS & CULTURE    0.007067\n",
            "BLACK VOICES      0.022858\n",
            "BUSINESS          0.028520\n",
            "COLLEGE           0.005503\n",
            "COMEDY            0.024490\n",
            "CRIME             0.015681\n",
            "CULTURE & ARTS    0.005355\n",
            "DIVORCE           0.018095\n",
            "EDUCATION         0.004933\n",
            "ENTERTAINMENT     0.076551\n",
            "ENVIRONMENT       0.006977\n",
            "FIFTY             0.006280\n",
            "FOOD & DRINK      0.032518\n",
            "GOOD NEWS         0.006818\n",
            "GREEN             0.012142\n",
            "HEALTHY LIVING    0.030327\n",
            "HOME & LIVING     0.022077\n",
            "IMPACT            0.017455\n",
            "LATINO VOICES     0.005741\n",
            "MEDIA             0.013030\n",
            "MONEY             0.009010\n",
            "PARENTING         0.045796\n",
            "PARENTS           0.019758\n",
            "POLITICS          0.163907\n",
            "QUEER VOICES      0.031832\n",
            "RELIGION          0.011361\n",
            "SCIENCE           0.010040\n",
            "SPORTS            0.023450\n",
            "STYLE             0.009713\n",
            "STYLE & BEAUTY    0.050861\n",
            "TASTE             0.010442\n",
            "TECH              0.010906\n",
            "THE WORLDPOST     0.019346\n",
            "TRAVEL            0.050634\n",
            "WEDDINGS          0.019272\n",
            "WEIRD NEWS        0.012412\n",
            "WELLNESS          0.094133\n",
            "WOMEN             0.017292\n",
            "WORLD NEWS        0.011482\n",
            "WORLDPOST         0.009406\n",
            "Name: category_id, dtype: float64\n"
          ],
          "name": "stdout"
        },
        {
          "output_type": "execute_result",
          "data": {
            "text/html": [
              "<div>\n",
              "<style scoped>\n",
              "    .dataframe tbody tr th:only-of-type {\n",
              "        vertical-align: middle;\n",
              "    }\n",
              "\n",
              "    .dataframe tbody tr th {\n",
              "        vertical-align: top;\n",
              "    }\n",
              "\n",
              "    .dataframe thead th {\n",
              "        text-align: right;\n",
              "    }\n",
              "</style>\n",
              "<table border=\"1\" class=\"dataframe\">\n",
              "  <thead>\n",
              "    <tr style=\"text-align: right;\">\n",
              "      <th></th>\n",
              "      <th>category</th>\n",
              "      <th>headline</th>\n",
              "      <th>authors</th>\n",
              "      <th>link</th>\n",
              "      <th>short_description</th>\n",
              "      <th>date</th>\n",
              "      <th>category_id</th>\n",
              "      <th>headline_char_len</th>\n",
              "      <th>headline_word_len</th>\n",
              "      <th>short_description_char_len</th>\n",
              "      <th>short_description_word_len</th>\n",
              "      <th>headline_description</th>\n",
              "      <th>headline_description_char_len</th>\n",
              "      <th>headline_description_word_len</th>\n",
              "    </tr>\n",
              "  </thead>\n",
              "  <tbody>\n",
              "    <tr>\n",
              "      <th>189334</th>\n",
              "      <td>TECH</td>\n",
              "      <td>RIM CEO Thorsten Heins' 'Significant' Plans Fo...</td>\n",
              "      <td>Reuters, Reuters</td>\n",
              "      <td>https://www.huffingtonpost.com/entry/rim-ceo-t...</td>\n",
              "      <td>Verizon Wireless and AT&amp;T are already promotin...</td>\n",
              "      <td>2012-01-28</td>\n",
              "      <td>14</td>\n",
              "      <td>58</td>\n",
              "      <td>8</td>\n",
              "      <td>124</td>\n",
              "      <td>18</td>\n",
              "      <td>RIM CEO Thorsten Heins' 'Significant' Plans Fo...</td>\n",
              "      <td>184</td>\n",
              "      <td>26</td>\n",
              "    </tr>\n",
              "    <tr>\n",
              "      <th>189335</th>\n",
              "      <td>SPORTS</td>\n",
              "      <td>Maria Sharapova Stunned By Victoria Azarenka I...</td>\n",
              "      <td></td>\n",
              "      <td>https://www.huffingtonpost.com/entry/maria-sha...</td>\n",
              "      <td>Afterward, Azarenka, more effusive with the pr...</td>\n",
              "      <td>2012-01-28</td>\n",
              "      <td>10</td>\n",
              "      <td>69</td>\n",
              "      <td>10</td>\n",
              "      <td>122</td>\n",
              "      <td>20</td>\n",
              "      <td>Maria Sharapova Stunned By Victoria Azarenka I...</td>\n",
              "      <td>193</td>\n",
              "      <td>30</td>\n",
              "    </tr>\n",
              "    <tr>\n",
              "      <th>189336</th>\n",
              "      <td>SPORTS</td>\n",
              "      <td>Giants Over Patriots, Jets Over Colts Among  M...</td>\n",
              "      <td></td>\n",
              "      <td>https://www.huffingtonpost.com/entry/super-bow...</td>\n",
              "      <td>Leading up to Super Bowl XLVI, the most talked...</td>\n",
              "      <td>2012-01-28</td>\n",
              "      <td>10</td>\n",
              "      <td>99</td>\n",
              "      <td>16</td>\n",
              "      <td>121</td>\n",
              "      <td>24</td>\n",
              "      <td>Giants Over Patriots, Jets Over Colts Among  M...</td>\n",
              "      <td>222</td>\n",
              "      <td>40</td>\n",
              "    </tr>\n",
              "    <tr>\n",
              "      <th>189337</th>\n",
              "      <td>SPORTS</td>\n",
              "      <td>Aldon Smith Arrested: 49ers Linebacker Busted ...</td>\n",
              "      <td></td>\n",
              "      <td>https://www.huffingtonpost.com/entry/aldon-smi...</td>\n",
              "      <td>CORRECTION: An earlier version of this story i...</td>\n",
              "      <td>2012-01-28</td>\n",
              "      <td>10</td>\n",
              "      <td>53</td>\n",
              "      <td>8</td>\n",
              "      <td>120</td>\n",
              "      <td>20</td>\n",
              "      <td>Aldon Smith Arrested: 49ers Linebacker Busted ...</td>\n",
              "      <td>175</td>\n",
              "      <td>28</td>\n",
              "    </tr>\n",
              "    <tr>\n",
              "      <th>189338</th>\n",
              "      <td>SPORTS</td>\n",
              "      <td>Dwight Howard Rips Teammates After Magic Loss ...</td>\n",
              "      <td></td>\n",
              "      <td>https://www.huffingtonpost.com/entry/dwight-ho...</td>\n",
              "      <td>The five-time all-star center tore into his te...</td>\n",
              "      <td>2012-01-28</td>\n",
              "      <td>10</td>\n",
              "      <td>56</td>\n",
              "      <td>9</td>\n",
              "      <td>122</td>\n",
              "      <td>19</td>\n",
              "      <td>Dwight Howard Rips Teammates After Magic Loss ...</td>\n",
              "      <td>180</td>\n",
              "      <td>28</td>\n",
              "    </tr>\n",
              "  </tbody>\n",
              "</table>\n",
              "</div>"
            ],
            "text/plain": [
              "       category  ... headline_description_word_len\n",
              "189334     TECH  ...                            26\n",
              "189335   SPORTS  ...                            30\n",
              "189336   SPORTS  ...                            40\n",
              "189337   SPORTS  ...                            28\n",
              "189338   SPORTS  ...                            28\n",
              "\n",
              "[5 rows x 14 columns]"
            ]
          },
          "metadata": {
            "tags": []
          },
          "execution_count": 6
        }
      ]
    },
    {
      "cell_type": "markdown",
      "metadata": {
        "id": "doDGMGhek8zj"
      },
      "source": [
        "## Split data in training and validation dataset"
      ]
    },
    {
      "cell_type": "code",
      "metadata": {
        "colab": {
          "base_uri": "https://localhost:8080/",
          "height": 1000
        },
        "id": "UJ6epcR8hfoL",
        "outputId": "ef14cbe2-253f-4e9f-f4df-aa4e80e121d5"
      },
      "source": [
        "df_train = df.sample(frac=0.8, random_state=3, replace=False)\n",
        "df_val = df.drop(df_train.index)\n",
        "\n",
        "df_train.reset_index(inplace=True, drop=True)\n",
        "df_val.reset_index(inplace=True, drop=True)\n",
        "\n",
        "plt.figure(figsize=(8,6))\n",
        "plt.hist([df_train['headline_description_word_len'], df_val['headline_description_word_len']], 50, label=['Train words', 'Val words'])\n",
        "plt.legend(loc='upper right')\n",
        "plt.show()\n",
        "\n",
        "print('Category IDs')\n",
        "print(df_train.groupby(['category','category_id']).size())\n",
        "print('==============================================================')\n",
        "print('Class distribution')\n",
        "class_distribution = df_train.groupby('category').count()['category_id']/df_train.groupby('category').count().sum()[0]\n",
        "print('Number of classes: {}'.format(len(class_distribution)))\n",
        "print(class_distribution)\n",
        "print('==============================================================')\n",
        "\n",
        "print('Reversed class distribution')\n",
        "reverese_class_distribution = (1/(df_train.groupby('category').count()['category_id']/df_train.groupby('category').count().sum()[0]))\n",
        "reverse_sum = 1/reverese_class_distribution.sum()\n",
        "scaled_reverese_class_dist = reverese_class_distribution * reverse_sum\n",
        "print(scaled_reverese_class_dist)\n",
        "print(scaled_reverese_class_dist.sum())"
      ],
      "execution_count": null,
      "outputs": [
        {
          "output_type": "stream",
          "text": [
            "/usr/local/lib/python3.7/dist-packages/numpy/core/_asarray.py:83: VisibleDeprecationWarning: Creating an ndarray from ragged nested sequences (which is a list-or-tuple of lists-or-tuples-or ndarrays with different lengths or shapes) is deprecated. If you meant to do this, you must specify 'dtype=object' when creating the ndarray\n",
            "  return array(a, dtype, copy=False, order=order)\n"
          ],
          "name": "stderr"
        },
        {
          "output_type": "display_data",
          "data": {
            "image/png": "[encoded data removed]",
            "text/plain": [
              "<Figure size 576x432 with 1 Axes>"
            ]
          },
          "metadata": {
            "tags": []
          }
        },
        {
          "output_type": "stream",
          "text": [
            "Category IDs\n",
            "category        category_id\n",
            "ARTS            30               989\n",
            "ARTS & CULTURE  21              1064\n",
            "BLACK VOICES    6               3484\n",
            "BUSINESS        11              4300\n",
            "COLLEGE         19               849\n",
            "COMEDY          8               3707\n",
            "CRIME           0               2354\n",
            "CULTURE & ARTS  40               825\n",
            "DIVORCE         35              2736\n",
            "EDUCATION       18               746\n",
            "ENTERTAINMENT   1              11682\n",
            "ENVIRONMENT     39              1039\n",
            "FIFTY           29               947\n",
            "FOOD & DRINK    37              5001\n",
            "GOOD NEWS       27              1043\n",
            "GREEN           23              1842\n",
            "HEALTHY LIVING  25              4626\n",
            "HOME & LIVING   33              3349\n",
            "IMPACT          3               2644\n",
            "LATINO VOICES   17               868\n",
            "MEDIA           13              1981\n",
            "MONEY           38              1361\n",
            "PARENTING       32              6838\n",
            "PARENTS         20              2989\n",
            "POLITICS        4              24803\n",
            "QUEER VOICES    9               4798\n",
            "RELIGION        15              1709\n",
            "SCIENCE         16              1518\n",
            "SPORTS          10              3568\n",
            "STYLE           22              1447\n",
            "STYLE & BEAUTY  34              7674\n",
            "TASTE           24              1554\n",
            "TECH            14              1665\n",
            "THE WORLDPOST   26              2959\n",
            "TRAVEL          12              7655\n",
            "WEDDINGS        36              2938\n",
            "WEIRD NEWS      5               1905\n",
            "WELLNESS        31             14273\n",
            "WOMEN           7               2604\n",
            "WORLD NEWS      2               1711\n",
            "WORLDPOST       28              1426\n",
            "dtype: int64\n",
            "==============================================================\n",
            "Class distribution\n",
            "Number of classes: 41\n",
            "category\n",
            "ARTS              0.006529\n",
            "ARTS & CULTURE    0.007024\n",
            "BLACK VOICES      0.023001\n",
            "BUSINESS          0.028388\n",
            "COLLEGE           0.005605\n",
            "COMEDY            0.024473\n",
            "CRIME             0.015541\n",
            "CULTURE & ARTS    0.005447\n",
            "DIVORCE           0.018063\n",
            "EDUCATION         0.004925\n",
            "ENTERTAINMENT     0.077124\n",
            "ENVIRONMENT       0.006859\n",
            "FIFTY             0.006252\n",
            "FOOD & DRINK      0.033016\n",
            "GOOD NEWS         0.006886\n",
            "GREEN             0.012161\n",
            "HEALTHY LIVING    0.030540\n",
            "HOME & LIVING     0.022110\n",
            "IMPACT            0.017455\n",
            "LATINO VOICES     0.005730\n",
            "MEDIA             0.013078\n",
            "MONEY             0.008985\n",
            "PARENTING         0.045144\n",
            "PARENTS           0.019733\n",
            "POLITICS          0.163748\n",
            "QUEER VOICES      0.031676\n",
            "RELIGION          0.011283\n",
            "SCIENCE           0.010022\n",
            "SPORTS            0.023556\n",
            "STYLE             0.009553\n",
            "STYLE & BEAUTY    0.050663\n",
            "TASTE             0.010259\n",
            "TECH              0.010992\n",
            "THE WORLDPOST     0.019535\n",
            "TRAVEL            0.050538\n",
            "WEDDINGS          0.019396\n",
            "WEIRD NEWS        0.012577\n",
            "WELLNESS          0.094229\n",
            "WOMEN             0.017191\n",
            "WORLD NEWS        0.011296\n",
            "WORLDPOST         0.009414\n",
            "Name: category_id, dtype: float64\n",
            "==============================================================\n",
            "Reversed class distribution\n",
            "category\n",
            "ARTS              0.046501\n",
            "ARTS & CULTURE    0.043223\n",
            "BLACK VOICES      0.013200\n",
            "BUSINESS          0.010695\n",
            "COLLEGE           0.054169\n",
            "COMEDY            0.012406\n",
            "CRIME             0.019537\n",
            "CULTURE & ARTS    0.055744\n",
            "DIVORCE           0.016809\n",
            "EDUCATION         0.061648\n",
            "ENTERTAINMENT     0.003937\n",
            "ENVIRONMENT       0.044263\n",
            "FIFTY             0.048563\n",
            "FOOD & DRINK      0.009196\n",
            "GOOD NEWS         0.044093\n",
            "GREEN             0.024967\n",
            "HEALTHY LIVING    0.009941\n",
            "HOME & LIVING     0.013732\n",
            "IMPACT            0.017394\n",
            "LATINO VOICES     0.052983\n",
            "MEDIA             0.023215\n",
            "MONEY             0.033791\n",
            "PARENTING         0.006726\n",
            "PARENTS           0.015386\n",
            "POLITICS          0.001854\n",
            "QUEER VOICES      0.009585\n",
            "RELIGION          0.026910\n",
            "SCIENCE           0.030296\n",
            "SPORTS            0.012889\n",
            "STYLE             0.031782\n",
            "STYLE & BEAUTY    0.005993\n",
            "TASTE             0.029594\n",
            "TECH              0.027621\n",
            "THE WORLDPOST     0.015542\n",
            "TRAVEL            0.006008\n",
            "WEDDINGS          0.015653\n",
            "WEIRD NEWS        0.024141\n",
            "WELLNESS          0.003222\n",
            "WOMEN             0.017661\n",
            "WORLD NEWS        0.026879\n",
            "WORLDPOST         0.032250\n",
            "Name: category_id, dtype: float64\n",
            "1.0\n"
          ],
          "name": "stdout"
        }
      ]
    },
    {
      "cell_type": "markdown",
      "metadata": {
        "id": "lKuO2gg7pEAY"
      },
      "source": [
        "## Load Albert Files"
      ]
    },
    {
      "cell_type": "code",
      "metadata": {
        "id": "0KHpTH_ZhfsB"
      },
      "source": [
        "albert_tokenizer = hub.KerasLayer(\"http://tfhub.dev/tensorflow/albert_en_preprocess/2\")\n",
        "albert_encoder = hub.KerasLayer(\"https://tfhub.dev/tensorflow/albert_en_base/2\", trainable=True)"
      ],
      "execution_count": null,
      "outputs": []
    },
    {
      "cell_type": "markdown",
      "metadata": {
        "id": "2N-FSTqKtmfu"
      },
      "source": [
        "## DataGenerator"
      ]
    },
    {
      "cell_type": "code",
      "metadata": {
        "id": "0sunJN2ChfwR"
      },
      "source": [
        "class DataGenerator(tf.keras.utils.Sequence):\n",
        "  def __init__(self, data, tokenizer, batch_size):\n",
        "    self.data = data\n",
        "    self.tokenizer = tokenizer\n",
        "    self.batch_size = batch_size\n",
        "\n",
        "  def __len__(self):\n",
        "    return (np.ceil(len(self.data) / float(self.batch_size))).astype(np.int)\n",
        "\n",
        "  def __getitem__(self, idx):\n",
        "    df_batch = self.data.iloc[idx*self.batch_size : ((idx+1)*self.batch_size)]\n",
        "    \n",
        "    preprocessed_tokens = self.tokenizer(tf.constant(df_batch['headline_description'].tolist())) \n",
        "    y = df_batch['category_id'].values\n",
        "    return [preprocessed_tokens['input_word_ids'], preprocessed_tokens['input_mask'], preprocessed_tokens['input_type_ids']], y\n",
        "\n",
        "\n",
        "train_gen = DataGenerator(df_train, albert_tokenizer, BATCH_SIZE)\n",
        "val_gen = DataGenerator(df_val, albert_tokenizer, BATCH_SIZE)"
      ],
      "execution_count": null,
      "outputs": []
    },
    {
      "cell_type": "markdown",
      "source": [
        "## Construct Siamese ALBERT model architecture"
      ],
      "metadata": {
        "id": "yGYeLz5YFTh7"
      }
    },
    {
      "cell_type": "code",
      "metadata": {
        "colab": {
          "base_uri": "https://localhost:8080/"
        },
        "id": "1YqZrXCphf1j",
        "outputId": "7c91e5dc-d460-46aa-9a6d-c9eee5217a66"
      },
      "source": [
        "input_word_ids = tf.keras.layers.Input(shape=(128,), dtype=tf.int32)\n",
        "input_mask = tf.keras.layers.Input(shape=(128,), dtype=tf.int32)\n",
        "input_type_ids = tf.keras.layers.Input(shape=(128,), dtype=tf.int32)\n",
        "  \n",
        "albert_layer = albert_encoder({'input_word_ids': input_word_ids, 'input_mask': input_mask, 'input_type_ids': input_type_ids})['pooled_output']\n",
        "dense_layer = tf.keras.layers.Dense(64, activation='relu', kernel_initializer='glorot_uniform', bias_initializer='glorot_uniform', name='dense_vector_reduction')(albert_layer)\n",
        "out = tf.keras.layers.Dense(64, activation=None, name='out')(dense_layer)\n",
        "out = tf.keras.layers.Lambda(lambda x: tf.math.l2_normalize(x, axis=1))(out)\n",
        "model = tf.keras.Model(inputs=[input_word_ids, input_mask, input_type_ids], outputs=out, name=\"embedding_model\")\n",
        "model.summary()\n",
        "\n",
        "model.compile(optimizer=tf.keras.optimizers.Adam(lr=1e-5), loss=tfa.losses.TripletSemiHardLoss())\n"
      ],
      "execution_count": null,
      "outputs": [
        {
          "output_type": "stream",
          "text": [
            "Model: \"embedding_model\"\n",
            "__________________________________________________________________________________________________\n",
            "Layer (type)                    Output Shape         Param #     Connected to                     \n",
            "==================================================================================================\n",
            "input_5 (InputLayer)            [(None, 128)]        0                                            \n",
            "__________________________________________________________________________________________________\n",
            "input_6 (InputLayer)            [(None, 128)]        0                                            \n",
            "__________________________________________________________________________________________________\n",
            "input_4 (InputLayer)            [(None, 128)]        0                                            \n",
            "__________________________________________________________________________________________________\n",
            "keras_layer_1 (KerasLayer)      {'pooled_output': (N 11683584    input_5[0][0]                    \n",
            "                                                                 input_6[0][0]                    \n",
            "                                                                 input_4[0][0]                    \n",
            "__________________________________________________________________________________________________\n",
            "dense_vector_reduction (Dense)  (None, 64)           49216       keras_layer_1[1][13]             \n",
            "__________________________________________________________________________________________________\n",
            "out (Dense)                     (None, 64)           4160        dense_vector_reduction[0][0]     \n",
            "__________________________________________________________________________________________________\n",
            "lambda_1 (Lambda)               (None, 64)           0           out[0][0]                        \n",
            "==================================================================================================\n",
            "Total params: 11,736,960\n",
            "Trainable params: 11,736,960\n",
            "Non-trainable params: 0\n",
            "__________________________________________________________________________________________________\n"
          ],
          "name": "stdout"
        }
      ]
    },
    {
      "cell_type": "markdown",
      "source": [
        "## Compile Siamese ALBERT model"
      ],
      "metadata": {
        "id": "75WsaQKbFdMB"
      }
    },
    {
      "cell_type": "code",
      "metadata": {
        "colab": {
          "base_uri": "https://localhost:8080/"
        },
        "id": "uYbBOwL77GSU",
        "outputId": "6a638479-041a-41f0-ac24-21fb926fcd34"
      },
      "source": [
        "callbacks = [tf.keras.callbacks.ModelCheckpoint('/content/drive/My Drive/Capital_Market/Neural_Returns/Models/20210228_SiameseTriplet_AlbertBase_epoch{epoch:02d}_val-loss{val_loss:.6f}.hdf5', monitor='val_loss', save_best_only=True, verbose=1),]\n",
        "\n",
        "# Train the network\n",
        "history = model.fit(train_gen,\n",
        "                    steps_per_epoch = len(df_train)//BATCH_SIZE+1,\n",
        "                    batch_size = None,\n",
        "                    verbose = 1,\n",
        "                    epochs = 25,\n",
        "                    shuffle = True,\n",
        "                    validation_data = val_gen,\n",
        "                    validation_steps = len(df_val)//BATCH_SIZE+1,\n",
        "                    callbacks = callbacks,                    \n",
        "                    max_queue_size = 3,)"
      ],
      "execution_count": null,
      "outputs": [
        {
          "output_type": "stream",
          "text": [
            "Epoch 1/25\n",
            "2367/2367 [==============================] - 2162s 913ms/step - loss: 0.8138 - val_loss: 0.7727\n",
            "\n",
            "Epoch 00001: val_loss improved from inf to 0.77272, saving model to /content/drive/My Drive/Capital_Market/Neural_Returns/Models/20210228_SiameseTriplet_AlbertBase_epoch01_val-loss0.772721.hdf5\n",
            "Epoch 2/25\n",
            "2367/2367 [==============================] - 2156s 911ms/step - loss: 0.7354 - val_loss: 0.7703\n",
            "\n",
            "Epoch 00002: val_loss improved from 0.77272 to 0.77029, saving model to /content/drive/My Drive/Capital_Market/Neural_Returns/Models/20210228_SiameseTriplet_AlbertBase_epoch02_val-loss0.770294.hdf5\n",
            "Epoch 3/25\n",
            "2367/2367 [==============================] - 2155s 911ms/step - loss: 0.6960 - val_loss: 0.7669\n",
            "\n",
            "Epoch 00003: val_loss improved from 0.77029 to 0.76687, saving model to /content/drive/My Drive/Capital_Market/Neural_Returns/Models/20210228_SiameseTriplet_AlbertBase_epoch03_val-loss0.766868.hdf5\n",
            "Epoch 4/25\n",
            "2367/2367 [==============================] - 2153s 909ms/step - loss: 0.6660 - val_loss: 0.7379\n",
            "\n",
            "Epoch 00004: val_loss improved from 0.76687 to 0.73789, saving model to /content/drive/My Drive/Capital_Market/Neural_Returns/Models/20210228_SiameseTriplet_AlbertBase_epoch04_val-loss0.737889.hdf5\n",
            "Epoch 5/25\n",
            "2367/2367 [==============================] - 2156s 911ms/step - loss: 0.6331 - val_loss: 0.7154\n",
            "\n",
            "Epoch 00005: val_loss improved from 0.73789 to 0.71544, saving model to /content/drive/My Drive/Capital_Market/Neural_Returns/Models/20210228_SiameseTriplet_AlbertBase_epoch05_val-loss0.715443.hdf5\n",
            "Epoch 6/25\n",
            "2367/2367 [==============================] - 2153s 910ms/step - loss: 0.6108 - val_loss: 0.7163\n",
            "\n",
            "Epoch 00006: val_loss did not improve from 0.71544\n",
            "Epoch 7/25\n",
            "2367/2367 [==============================] - 2153s 910ms/step - loss: 0.5835 - val_loss: 0.7234\n",
            "\n",
            "Epoch 00007: val_loss did not improve from 0.71544\n",
            "Epoch 8/25\n",
            "2367/2367 [==============================] - 2154s 910ms/step - loss: 0.5643 - val_loss: 0.7233\n",
            "\n",
            "Epoch 00008: val_loss did not improve from 0.71544\n",
            "Epoch 9/25\n",
            "2367/2367 [==============================] - 2153s 910ms/step - loss: 0.5459 - val_loss: 0.7023\n",
            "\n",
            "Epoch 00009: val_loss improved from 0.71544 to 0.70228, saving model to /content/drive/My Drive/Capital_Market/Neural_Returns/Models/20210228_SiameseTriplet_AlbertBase_epoch09_val-loss0.702276.hdf5\n",
            "Epoch 10/25\n",
            "2367/2367 [==============================] - 2157s 911ms/step - loss: 0.5284 - val_loss: 0.7227\n",
            "\n",
            "Epoch 00010: val_loss did not improve from 0.70228\n",
            "Epoch 11/25\n",
            "2367/2367 [==============================] - 2134s 902ms/step - loss: 0.5034 - val_loss: 0.7278\n",
            "\n",
            "Epoch 00011: val_loss did not improve from 0.70228\n",
            "Epoch 12/25\n",
            "2367/2367 [==============================] - 2124s 897ms/step - loss: 0.4923 - val_loss: 0.7173\n",
            "\n",
            "Epoch 00012: val_loss did not improve from 0.70228\n",
            "Epoch 13/25\n",
            "2367/2367 [==============================] - 2133s 901ms/step - loss: 0.4823 - val_loss: 0.7133\n",
            "\n",
            "Epoch 00013: val_loss did not improve from 0.70228\n",
            "Epoch 14/25\n",
            "2367/2367 [==============================] - 2133s 901ms/step - loss: 0.4660 - val_loss: 0.7077\n",
            "\n",
            "Epoch 00014: val_loss did not improve from 0.70228\n",
            "Epoch 15/25\n",
            "2367/2367 [==============================] - 2137s 903ms/step - loss: 0.4531 - val_loss: 0.7181\n",
            "\n",
            "Epoch 00015: val_loss did not improve from 0.70228\n",
            "Epoch 16/25\n",
            "2367/2367 [==============================] - 2132s 901ms/step - loss: 0.4369 - val_loss: 0.7211\n",
            "\n",
            "Epoch 00016: val_loss did not improve from 0.70228\n",
            "Epoch 17/25\n",
            "2367/2367 [==============================] - 2128s 899ms/step - loss: 0.4316 - val_loss: 0.7071\n",
            "\n",
            "Epoch 00017: val_loss did not improve from 0.70228\n",
            "Epoch 18/25\n",
            "2367/2367 [==============================] - 2122s 896ms/step - loss: 0.4186 - val_loss: 0.7076\n",
            "\n",
            "Epoch 00018: val_loss did not improve from 0.70228\n",
            "Epoch 19/25\n",
            "2367/2367 [==============================] - 2139s 904ms/step - loss: 0.4011 - val_loss: 0.7008\n",
            "\n",
            "Epoch 00019: val_loss improved from 0.70228 to 0.70079, saving model to /content/drive/My Drive/Capital_Market/Neural_Returns/Models/20210228_SiameseTriplet_AlbertBase_epoch19_val-loss0.700789.hdf5\n",
            "Epoch 20/25\n",
            "2367/2367 [==============================] - 2138s 903ms/step - loss: 0.4025 - val_loss: 0.7205\n",
            "\n",
            "Epoch 00020: val_loss did not improve from 0.70079\n",
            "Epoch 21/25\n",
            "2367/2367 [==============================] - 2145s 906ms/step - loss: 0.3940 - val_loss: 0.7108\n",
            "\n",
            "Epoch 00021: val_loss did not improve from 0.70079\n",
            "Epoch 22/25\n",
            "2367/2367 [==============================] - 2142s 905ms/step - loss: 0.3887 - val_loss: 0.7153\n",
            "\n",
            "Epoch 00022: val_loss did not improve from 0.70079\n",
            "Epoch 23/25\n",
            "2367/2367 [==============================] - 2139s 904ms/step - loss: 0.3884 - val_loss: 0.7165\n",
            "\n",
            "Epoch 00023: val_loss did not improve from 0.70079\n",
            "Epoch 24/25\n",
            "2367/2367 [==============================] - 2150s 908ms/step - loss: 0.3794 - val_loss: 0.7132\n",
            "\n",
            "Epoch 00024: val_loss did not improve from 0.70079\n",
            "Epoch 25/25\n",
            "2367/2367 [==============================] - 2154s 910ms/step - loss: 0.3644 - val_loss: 0.7240\n",
            "\n",
            "Epoch 00025: val_loss did not improve from 0.70079\n"
          ],
          "name": "stdout"
        }
      ]
    },
    {
      "cell_type": "markdown",
      "metadata": {
        "id": "t693yss79yWc"
      },
      "source": [
        "## Model training metrcis"
      ]
    },
    {
      "cell_type": "code",
      "metadata": {
        "colab": {
          "base_uri": "https://localhost:8080/",
          "height": 357
        },
        "id": "ot-yN-rG9wZD",
        "outputId": "678fce0a-daee-4203-abf3-472ab4eb4572"
      },
      "source": [
        "def plot_metrics(history):\n",
        "  metrics = ['loss']\n",
        "  plt.figure(figsize=(12,12))\n",
        "  for n, metric in enumerate(metrics):\n",
        "    name = metric.replace(\"_\",\" \").capitalize()\n",
        "    plt.subplot(2, 2, n+1)\n",
        "    plt.plot(history.epoch, history.history[metric], label='Train')\n",
        "    plt.plot(history.epoch, history.history['val_'+metric], linestyle=\"--\", label='Val')\n",
        "    plt.xlabel('Epoch')\n",
        "    plt.ylabel(name)\n",
        "    if metric == 'loss':\n",
        "      plt.ylim([0, plt.ylim()[1]])\n",
        "    elif metric == 'auc':\n",
        "      plt.ylim([0.8,1])\n",
        "    else:\n",
        "      plt.ylim([0,1])\n",
        "    plt.legend()\n",
        "\n",
        "plot_metrics(history)"
      ],
      "execution_count": null,
      "outputs": [
        {
          "output_type": "display_data",
          "data": {
            "image/png": "[encoded data removed]",
            "text/plain": [
              "<Figure size 864x864 with 1 Axes>"
            ]
          },
          "metadata": {
            "tags": []
          }
        }
      ]
    }
  ]
}